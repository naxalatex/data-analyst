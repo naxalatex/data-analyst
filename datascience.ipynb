{
 "cells": [
  {
   "cell_type": "code",
   "execution_count": 3,
   "id": "ee5e6803",
   "metadata": {},
   "outputs": [],
   "source": [
    "import numpy as np"
   ]
  },
  {
   "cell_type": "code",
   "execution_count": null,
   "id": "97315dc6",
   "metadata": {},
   "outputs": [
    {
     "name": "stdout",
     "output_type": "stream",
     "text": [
      "[ 2  4  6  8 10]\n",
      "[ 4  8 12 16 20]\n"
     ]
    }
   ],
   "source": [
    "lst = [1,2,3,4,5]\n",
    "result = np.array(lst)\n",
    "result = result*2\n",
    "print (result)\n",
    "newresult = result + result\n",
    "print(newresult)\n",
    "\n",
    "import numpy as np\n",
    "\n",
    "A = np.array([[2, 4], [6, 8]])\n",
    "B = np.array([[1, 3], [5, 7]])\n",
    "\n",
    "C = np.matmul(A, B)   \n",
    "print(C)"
   ]
  },
  {
   "cell_type": "code",
   "execution_count": null,
   "id": "2339988c",
   "metadata": {},
   "outputs": [],
   "source": [
    "import numpy as np\n",
    "\n",
    "I = np.identity(4, dtype=int)\n",
    "print(\"Identity matrix:\\n\", I)\n",
    "\n",
    "\n",
    "A = np.random.randint(0, 10, (4, 4))\n",
    "print(\"Random matrix A:\\n\", A)\n",
    "C = np.matmul(I, A)  \n",
    "print(\"Result of I * A:\\n\", C)\n"
   ]
  },
  {
   "cell_type": "code",
   "execution_count": null,
   "id": "bd240fee",
   "metadata": {},
   "outputs": [],
   "source": []
  }
 ],
 "metadata": {
  "kernelspec": {
   "display_name": "svenv",
   "language": "python",
   "name": "python3"
  },
  "language_info": {
   "codemirror_mode": {
    "name": "ipython",
    "version": 3
   },
   "file_extension": ".py",
   "mimetype": "text/x-python",
   "name": "python",
   "nbconvert_exporter": "python",
   "pygments_lexer": "ipython3",
   "version": "3.13.7"
  }
 },
 "nbformat": 4,
 "nbformat_minor": 5
}
